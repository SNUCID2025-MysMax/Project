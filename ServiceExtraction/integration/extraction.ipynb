{
 "cells": [
  {
   "cell_type": "code",
   "execution_count": 1,
   "id": "d1928ce7",
   "metadata": {},
   "outputs": [
    {
     "name": "stdout",
     "output_type": "stream",
     "text": [
      "\n",
      "✅ JSON 파일 저장 완료: d:\\desktop\\창통설\\skills_일부\\integration\\exported_device_skills.json\n"
     ]
    }
   ],
   "source": [
    "import json, os\n",
    "from DeviceObjects import ALL_DEVICE_TYPES\n",
    "import devices\n",
    "from typing import Any\n",
    "\n",
    "def serialize_device_types() -> dict[str, Any]:\n",
    "    result = {}\n",
    "\n",
    "    for device_name, device_cls in ALL_DEVICE_TYPES.items():\n",
    "        skill_data = []\n",
    "        for skill in device_cls.skills:\n",
    "            try:\n",
    "                skill_data.append(skill.dict())\n",
    "            except Exception as e:\n",
    "                skill_data.append({\n",
    "                    \"id\": getattr(skill, 'id', 'unknown'),\n",
    "                    \"error\": str(e)\n",
    "                })\n",
    "\n",
    "        result[device_name] = {\n",
    "            \"skills\": skill_data\n",
    "        }\n",
    "\n",
    "    return result\n",
    "\n",
    "\n",
    "\n",
    "data = serialize_device_types()\n",
    "# print(json.dumps(data, indent=2, ensure_ascii=False))\n",
    "output_path = \"exported_device_skills.json\"\n",
    "with open(output_path, \"w\", encoding=\"utf-8\") as f:\n",
    "    json.dump(data, f, indent=2, ensure_ascii=False)\n",
    "\n",
    "print(f\"\\n✅ JSON 파일 저장 완료: {os.path.abspath(output_path)}\")"
   ]
  },
  {
   "cell_type": "code",
   "execution_count": 4,
   "id": "048cc3cc",
   "metadata": {},
   "outputs": [
    {
     "name": "stdout",
     "output_type": "stream",
     "text": [
      "\n",
      "✅ JSON 파일 저장 완료: d:\\desktop\\창통설\\skills_일부\\integration\\exported_devices.json\n"
     ]
    }
   ],
   "source": [
    "import json\n",
    "\n",
    "with open(\"exported_device_skills.json\", \"r\", encoding=\"utf-8\") as f:\n",
    "    data = json.load(f)\n",
    "    # 추출\n",
    "    extracted = {}\n",
    "\n",
    "    for device_name, device_info in data.items():\n",
    "        skills_summary = []\n",
    "        for skill in device_info.get(\"skills\", []):\n",
    "            skills_summary.append({\n",
    "                \"id\": skill[\"id\"],\n",
    "                \"descriptor\": skill[\"descriptor\"]\n",
    "            })\n",
    "        extracted[device_name] = {\"skills\": skills_summary}\n",
    "\n",
    "    output_path = \"exported_devices.json\"\n",
    "    with open(output_path, \"w\", encoding=\"utf-8\") as f:\n",
    "        json.dump(extracted, f, indent=2, ensure_ascii=False)\n",
    "\n",
    "    print(f\"\\n✅ JSON 파일 저장 완료: {os.path.abspath(output_path)}\")"
   ]
  },
  {
   "cell_type": "code",
   "execution_count": 8,
   "id": "a8d0a740",
   "metadata": {},
   "outputs": [
    {
     "name": "stdout",
     "output_type": "stream",
     "text": [
      "\n",
      "✅ 중복 제거된 스킬 JSON 저장 완료: d:\\desktop\\창통설\\skills_일부\\integration\\exported_skills.json\n"
     ]
    }
   ],
   "source": [
    "import json\n",
    "import os\n",
    "\n",
    "with open(\"exported_device_skills.json\", \"r\", encoding=\"utf-8\") as f:\n",
    "    data = json.load(f)\n",
    "\n",
    "    # 중복 제거용 딕셔너리\n",
    "    unique_skills = {}\n",
    "\n",
    "    for device_info in data.values():\n",
    "        for skill in device_info.get(\"skills\", []):\n",
    "            skill_id = skill[\"id\"]\n",
    "            if skill_id not in unique_skills:\n",
    "                unique_skills[skill_id] = skill\n",
    "\n",
    "    # 결과 포맷\n",
    "    extracted_skills = list(unique_skills.values())\n",
    "\n",
    "    # 저장\n",
    "    output_path = \"exported_skills.json\"\n",
    "    with open(output_path, \"w\", encoding=\"utf-8\") as f:\n",
    "        json.dump(extracted_skills, f, indent=2, ensure_ascii=False)\n",
    "\n",
    "    print(f\"\\n✅ 중복 제거된 스킬 JSON 저장 완료: {os.path.abspath(output_path)}\")"
   ]
  },
  {
   "cell_type": "markdown",
   "id": "a1eb88c0",
   "metadata": {},
   "source": [
    "## 압축"
   ]
  },
  {
   "cell_type": "code",
   "execution_count": 12,
   "id": "cb683e1a",
   "metadata": {},
   "outputs": [
    {
     "name": "stdout",
     "output_type": "stream",
     "text": [
      "\n",
      "✅ JSON 파일 저장 완료: d:\\desktop\\창통설\\skills_일부\\integration\\compressed_devices.json\n"
     ]
    }
   ],
   "source": [
    "import json\n",
    "\n",
    "with open(\"exported_device_skills.json\", \"r\", encoding=\"utf-8\") as f:\n",
    "    data = json.load(f)\n",
    "    # 추출\n",
    "    extracted = {}\n",
    "\n",
    "    for device_name, device_info in data.items():\n",
    "        skills_summary = {}\n",
    "        for skill in device_info.get(\"skills\", []):\n",
    "            skills_summary[skill[\"id\"]] = skill[\"descriptor\"]\n",
    "        extracted[device_name] = skills_summary\n",
    "\n",
    "    output_path = \"compressed_devices.json\"\n",
    "    with open(output_path, \"w\", encoding=\"utf-8\") as f:\n",
    "        json.dump(extracted, f, indent=2, ensure_ascii=False)\n",
    "\n",
    "    print(f\"\\n✅ JSON 파일 저장 완료: {os.path.abspath(output_path)}\")"
   ]
  },
  {
   "cell_type": "code",
   "execution_count": 5,
   "id": "8afbdd0f",
   "metadata": {},
   "outputs": [
    {
     "name": "stdout",
     "output_type": "stream",
     "text": [
      "\n",
      "✅ 중복 제거된 스킬 JSON 저장 완료: d:\\desktop\\창통설\\skills_일부\\integration\\compressed_skills.json\n"
     ]
    }
   ],
   "source": [
    "import json\n",
    "import os\n",
    "\n",
    "words = {\n",
    "    \"descriptor\": \"info\", \n",
    "    \"values\": \"values\", \n",
    "    \"functions\": \"functions\", \n",
    "    \"arguments\": \"arguements\",\n",
    "    \"return_type\": \"return_type\",\n",
    "}\n",
    "\n",
    "with open(\"exported_device_skills.json\", \"r\", encoding=\"utf-8\") as f:\n",
    "    data = json.load(f)\n",
    "\n",
    "    # 중복 제거용 딕셔너리\n",
    "    unique_skills = {}\n",
    "\n",
    "    for device_info in data.values():\n",
    "        for skill in device_info.get(\"skills\", []):\n",
    "            skill_id = skill[\"id\"]\n",
    "            del skill[\"id\"]\n",
    "\n",
    "            skill[\"info\"] = skill.pop(\"descriptor\")\n",
    "\n",
    "            original_values = skill.pop(\"values\")\n",
    "            converted_values = {\n",
    "                item[\"id\"]: {\n",
    "                    (words[k] if k in words else k): v\n",
    "                    for k, v in item.items() if k != \"id\" and v!=None\n",
    "                }\n",
    "                for item in original_values\n",
    "            }\n",
    "            if converted_values != {}:\n",
    "                skill[words[\"values\"]] = converted_values\n",
    "\n",
    "            original_functions = skill.pop(\"functions\")\n",
    "\n",
    "            converted_functions = {}\n",
    "            for func in original_functions:  # func는 dict\n",
    "                func_id = func[\"id\"]\n",
    "                converted_item = {\n",
    "                    (words[k] if k in words else k): v\n",
    "                    for k, v in func.items() if k != \"id\" and v!=None\n",
    "                }\n",
    "\n",
    "                # args 내부도 처리\n",
    "                if \"args\" in converted_item:\n",
    "                    converted_item[\"args\"] = {\n",
    "                        arg[\"id\"]:{\n",
    "                            (words[k] if k in words else k): v\n",
    "                            for k, v in arg.items() if k!=\"id\" and v!=None\n",
    "                        }\n",
    "                        for arg in converted_item[\"args\"]\n",
    "                    }\n",
    "\n",
    "                converted_functions[func_id] = converted_item\n",
    "\n",
    "            if converted_functions != {}:\n",
    "                skill[words[\"functions\"]] = converted_functions\n",
    "\n",
    "            original_enum = skill.pop(\"enum\", None)\n",
    "            converted_enum = {}\n",
    "\n",
    "            if original_enum:\n",
    "                enum_id = original_enum[\"id\"]\n",
    "                descriptor = original_enum.get(\"descriptor\", \"\")\n",
    "                enums_list = original_enum.get(\"enums\", [])\n",
    "\n",
    "                # descriptor 파싱: \"• key - 설명\" 형식\n",
    "                parsed_items = {}\n",
    "                for line in descriptor.split(\"\\n\"):\n",
    "                    line = line.strip(\"•\").strip()\n",
    "                    if \" - \" in line:\n",
    "                        key, desc = line.split(\" - \", 1)\n",
    "                        parsed_items[key.strip()] = desc.strip()\n",
    "\n",
    "                converted_enum[enum_id] = parsed_items\n",
    "        \n",
    "            if converted_enum != {}:\n",
    "                skill[\"enum\"] = converted_enum\n",
    "\n",
    "            if skill_id not in unique_skills:\n",
    "                unique_skills[skill_id] = skill\n",
    "\n",
    "    # 결과 포맷\n",
    "    extracted_skills = unique_skills\n",
    "\n",
    "    # 저장\n",
    "    output_path = \"compressed_skills.json\"\n",
    "    with open(output_path, \"w\", encoding=\"utf-8\") as f:\n",
    "        json.dump(extracted_skills, f, indent=2, ensure_ascii=False)\n",
    "\n",
    "    print(f\"\\n✅ 중복 제거된 스킬 JSON 저장 완료: {os.path.abspath(output_path)}\")"
   ]
  },
  {
   "cell_type": "markdown",
   "id": "ef247ad5",
   "metadata": {},
   "source": [
    "## 재병합"
   ]
  },
  {
   "cell_type": "code",
   "execution_count": 7,
   "id": "8f85f4c3",
   "metadata": {},
   "outputs": [],
   "source": [
    "import json \n",
    "\n",
    "def merge_device_skill(devices: dict, skills: dict) -> dict:\n",
    "    merged = {}\n",
    "    for device_name, skill_map in devices.items():\n",
    "        device_skills = []\n",
    "        for skill_id, skill_desc in skill_map.items():\n",
    "            skill_info = skills.get(skill_id, {})\n",
    "            device_skills.append({skill_id:{\n",
    "                \"info\": skill_info.get(\"info\", skill_map[skill_id]),\n",
    "                \"values\": skill_info.get(\"values\", {}),\n",
    "                \"functions\": skill_info.get(\"functions\", {}),\n",
    "                \"enum\": skill_info.get(\"enum\", {}),\n",
    "            }})\n",
    "        merged[device_name] = {\"skills\": device_skills}\n",
    "    return merged\n",
    "\n",
    "with open(\"compressed_devices.json\", \"r\", encoding=\"utf-8\") as f1:\n",
    "    with open(\"compressed_skills.json\", \"r\", encoding=\"utf-8\") as f2:\n",
    "        devices = json.load(f1)\n",
    "        skills = json.load(f2)\n",
    "        merged_data = merge_device_skill(devices, skills)\n",
    "        output_path = \"compressed_devices_skills.json\"\n",
    "        with open(output_path, \"w\", encoding=\"utf-8\") as f:\n",
    "            json.dump(merged_data, f, indent=2, ensure_ascii=False)\n"
   ]
  }
 ],
 "metadata": {
  "kernelspec": {
   "display_name": "Python 3",
   "language": "python",
   "name": "python3"
  },
  "language_info": {
   "codemirror_mode": {
    "name": "ipython",
    "version": 3
   },
   "file_extension": ".py",
   "mimetype": "text/x-python",
   "name": "python",
   "nbconvert_exporter": "python",
   "pygments_lexer": "ipython3",
   "version": "3.13.2"
  }
 },
 "nbformat": 4,
 "nbformat_minor": 5
}
